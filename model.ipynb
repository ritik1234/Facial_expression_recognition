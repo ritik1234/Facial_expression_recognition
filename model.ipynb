{
 "cells": [
  {
   "cell_type": "code",
   "execution_count": 27,
   "metadata": {},
   "outputs": [],
   "source": [
    "import numpy as np\n",
    "import cv2\n",
    "import matplotlib.pyplot as plt\n",
    "%matplotlib inline"
   ]
  },
  {
   "cell_type": "code",
   "execution_count": 28,
   "metadata": {},
   "outputs": [],
   "source": [
    "img=cv2.imread('DATA/train/angry/Training_10118481.jpg')"
   ]
  },
  {
   "cell_type": "code",
   "execution_count": 29,
   "metadata": {},
   "outputs": [
    {
     "data": {
      "text/plain": [
       "<matplotlib.image.AxesImage at 0x1c384bb9dd8>"
      ]
     },
     "execution_count": 29,
     "metadata": {},
     "output_type": "execute_result"
    },
    {
     "data": {
      "image/png": "[encoded data removed]",
      "text/plain": [
       "<Figure size 432x288 with 1 Axes>"
      ]
     },
     "metadata": {
      "needs_background": "light"
     },
     "output_type": "display_data"
    }
   ],
   "source": [
    "plt.imshow(img)"
   ]
  },
  {
   "cell_type": "code",
   "execution_count": 30,
   "metadata": {},
   "outputs": [
    {
     "data": {
      "text/plain": [
       "(48, 48, 3)"
      ]
     },
     "execution_count": 30,
     "metadata": {},
     "output_type": "execute_result"
    }
   ],
   "source": [
    "img.shape"
   ]
  },
  {
   "cell_type": "code",
   "execution_count": 31,
   "metadata": {},
   "outputs": [],
   "source": [
    "from keras.preprocessing.image import ImageDataGenerator"
   ]
  },
  {
   "cell_type": "code",
   "execution_count": 32,
   "metadata": {},
   "outputs": [],
   "source": [
    "train_path='DATA/train'\n",
    "test_path='DATA/test'"
   ]
  },
  {
   "cell_type": "code",
   "execution_count": 33,
   "metadata": {},
   "outputs": [],
   "source": [
    "image_gen=ImageDataGenerator(rescale=1.0/255)"
   ]
  },
  {
   "cell_type": "code",
   "execution_count": 34,
   "metadata": {},
   "outputs": [
    {
     "name": "stdout",
     "output_type": "stream",
     "text": [
      "Found 28710 images belonging to 7 classes.\n"
     ]
    }
   ],
   "source": [
    "train_data = image_gen.flow_from_directory(train_path,target_size=(48,48),batch_size=64,color_mode=\"grayscale\",class_mode='categorical') "
   ]
  },
  {
   "cell_type": "code",
   "execution_count": 35,
   "metadata": {},
   "outputs": [
    {
     "name": "stdout",
     "output_type": "stream",
     "text": [
      "Found 7178 images belonging to 7 classes.\n"
     ]
    }
   ],
   "source": [
    "test_data = image_gen.flow_from_directory(test_path,target_size=(48,48),batch_size=64,color_mode=\"grayscale\",class_mode='categorical')"
   ]
  },
  {
   "cell_type": "code",
   "execution_count": 36,
   "metadata": {},
   "outputs": [
    {
     "data": {
      "text/plain": [
       "(64, 48, 48, 1)"
      ]
     },
     "execution_count": 36,
     "metadata": {},
     "output_type": "execute_result"
    }
   ],
   "source": [
    "train_data[0][0].shape"
   ]
  },
  {
   "cell_type": "code",
   "execution_count": 37,
   "metadata": {},
   "outputs": [
    {
     "data": {
      "text/plain": [
       "<matplotlib.image.AxesImage at 0x1c38600ff60>"
      ]
     },
     "execution_count": 37,
     "metadata": {},
     "output_type": "execute_result"
    },
    {
     "data": {
      "image/png": "[encoded data removed]",
      "text/plain": [
       "<Figure size 432x288 with 1 Axes>"
      ]
     },
     "metadata": {
      "needs_background": "light"
     },
     "output_type": "display_data"
    }
   ],
   "source": [
    "plt.imshow(img)"
   ]
  },
  {
   "cell_type": "code",
   "execution_count": 38,
   "metadata": {},
   "outputs": [
    {
     "data": {
      "text/plain": [
       "{'angry': 0,\n",
       " 'disgust': 1,\n",
       " 'fear': 2,\n",
       " 'happy': 3,\n",
       " 'neutral': 4,\n",
       " 'sad': 5,\n",
       " 'surprise': 6}"
      ]
     },
     "execution_count": 38,
     "metadata": {},
     "output_type": "execute_result"
    }
   ],
   "source": [
    "train_data.class_indices"
   ]
  },
  {
   "cell_type": "code",
   "execution_count": 39,
   "metadata": {},
   "outputs": [],
   "source": [
    "# building model\n",
    "from keras.models import Sequential\n",
    "from keras.layers import Dense, Conv2D, Flatten, MaxPool2D,Dropout"
   ]
  },
  {
   "cell_type": "code",
   "execution_count": 40,
   "metadata": {},
   "outputs": [],
   "source": [
    "model = Sequential()\n",
    "model.add(Conv2D(filters=32,kernel_size=(3,3),input_shape=(48,48,1),activation='relu'))\n",
    "model.add(Conv2D(filters=64,kernel_size=(3,3),activation='relu'))\n",
    "model.add(MaxPool2D(pool_size=(2,2)))\n",
    "model.add(Dropout(0.25))\n",
    "\n",
    "model.add(Conv2D(filters=128,kernel_size=(3,3),activation='relu'))\n",
    "model.add(MaxPool2D(pool_size=(2,2)))\n",
    "model.add(Conv2D(filters=128,kernel_size=(3,3),activation='relu'))\n",
    "model.add(MaxPool2D(pool_size=(2,2)))\n",
    "model.add(Dropout(0.25))\n",
    "\n",
    "model.add(Flatten())\n",
    "\n",
    "model.add(Dense(1024,activation='relu'))\n",
    "model.add(Dropout(0.5))\n",
    "model.add(Dense(7,activation='softmax'))\n",
    "\n",
    "model.compile(loss='categorical_crossentropy',optimizer='adam',metrics=['accuracy'])"
   ]
  },
  {
   "cell_type": "code",
   "execution_count": 41,
   "metadata": {},
   "outputs": [
    {
     "name": "stdout",
     "output_type": "stream",
     "text": [
      "_________________________________________________________________\n",
      "Layer (type)                 Output Shape              Param #   \n",
      "=================================================================\n",
      "conv2d_1 (Conv2D)            (None, 46, 46, 32)        320       \n",
      "_________________________________________________________________\n",
      "conv2d_2 (Conv2D)            (None, 44, 44, 64)        18496     \n",
      "_________________________________________________________________\n",
      "max_pooling2d_1 (MaxPooling2 (None, 22, 22, 64)        0         \n",
      "_________________________________________________________________\n",
      "dropout_1 (Dropout)          (None, 22, 22, 64)        0         \n",
      "_________________________________________________________________\n",
      "conv2d_3 (Conv2D)            (None, 20, 20, 128)       73856     \n",
      "_________________________________________________________________\n",
      "max_pooling2d_2 (MaxPooling2 (None, 10, 10, 128)       0         \n",
      "_________________________________________________________________\n",
      "conv2d_4 (Conv2D)            (None, 8, 8, 128)         147584    \n",
      "_________________________________________________________________\n",
      "max_pooling2d_3 (MaxPooling2 (None, 4, 4, 128)         0         \n",
      "_________________________________________________________________\n",
      "dropout_2 (Dropout)          (None, 4, 4, 128)         0         \n",
      "_________________________________________________________________\n",
      "flatten_1 (Flatten)          (None, 2048)              0         \n",
      "_________________________________________________________________\n",
      "dense_1 (Dense)              (None, 1024)              2098176   \n",
      "_________________________________________________________________\n",
      "dropout_3 (Dropout)          (None, 1024)              0         \n",
      "_________________________________________________________________\n",
      "dense_2 (Dense)              (None, 7)                 7175      \n",
      "=================================================================\n",
      "Total params: 2,345,607\n",
      "Trainable params: 2,345,607\n",
      "Non-trainable params: 0\n",
      "_________________________________________________________________\n"
     ]
    }
   ],
   "source": [
    "model.summary()"
   ]
  },
  {
   "cell_type": "code",
   "execution_count": null,
   "metadata": {},
   "outputs": [
    {
     "name": "stdout",
     "output_type": "stream",
     "text": [
      "Epoch 1/50\n",
      "448/448 [==============================] - 966s 2s/step - loss: 1.7233 - acc: 0.3011 - val_loss: 1.5152 - val_acc: 0.4132\n",
      "Epoch 2/50\n",
      "448/448 [==============================] - 978s 2s/step - loss: 1.4534 - acc: 0.4355 - val_loss: 1.3299 - val_acc: 0.4912\n",
      "Epoch 3/50\n",
      "448/448 [==============================] - 531s 1s/step - loss: 1.3064 - acc: 0.4997 - val_loss: 1.2148 - val_acc: 0.5355\n",
      "Epoch 4/50\n",
      "448/448 [==============================] - 547s 1s/step - loss: 1.2276 - acc: 0.5290 - val_loss: 1.2052 - val_acc: 0.5403\n",
      "Epoch 5/50\n",
      "448/448 [==============================] - 558s 1s/step - loss: 1.1725 - acc: 0.5526 - val_loss: 1.1341 - val_acc: 0.5691\n",
      "Epoch 6/50\n",
      "448/448 [==============================] - 3271s 7s/step - loss: 1.1184 - acc: 0.5725 - val_loss: 1.1191 - val_acc: 0.5768\n",
      "Epoch 7/50\n",
      "448/448 [==============================] - 505s 1s/step - loss: 1.0797 - acc: 0.5933 - val_loss: 1.0884 - val_acc: 0.5913\n",
      "Epoch 8/50\n",
      "448/448 [==============================] - 501s 1s/step - loss: 1.0424 - acc: 0.6085 - val_loss: 1.0736 - val_acc: 0.5985\n",
      "Epoch 9/50\n",
      "448/448 [==============================] - 507s 1s/step - loss: 1.0059 - acc: 0.6217 - val_loss: 1.0883 - val_acc: 0.5887\n",
      "Epoch 10/50\n",
      "448/448 [==============================] - 499s 1s/step - loss: 0.9600 - acc: 0.6400 - val_loss: 1.0676 - val_acc: 0.6049\n",
      "Epoch 11/50\n",
      "448/448 [==============================] - 498s 1s/step - loss: 0.9281 - acc: 0.6520 - val_loss: 1.0577 - val_acc: 0.6113\n",
      "Epoch 12/50\n",
      "448/448 [==============================] - 992s 2s/step - loss: 0.9002 - acc: 0.6605 - val_loss: 1.0725 - val_acc: 0.5978\n",
      "Epoch 13/50\n",
      "448/448 [==============================] - 508s 1s/step - loss: 0.8652 - acc: 0.6754 - val_loss: 1.0726 - val_acc: 0.6099\n",
      "Epoch 14/50\n",
      "448/448 [==============================] - 498s 1s/step - loss: 0.8420 - acc: 0.6856 - val_loss: 1.0705 - val_acc: 0.6102\n",
      "Epoch 15/50\n",
      "448/448 [==============================] - 505s 1s/step - loss: 0.8086 - acc: 0.6949 - val_loss: 1.0731 - val_acc: 0.6110\n",
      "Epoch 16/50\n",
      "448/448 [==============================] - 504s 1s/step - loss: 0.7795 - acc: 0.7077 - val_loss: 1.0820 - val_acc: 0.6117\n",
      "Epoch 17/50\n",
      "448/448 [==============================] - 483s 1s/step - loss: 0.7599 - acc: 0.7165 - val_loss: 1.0906 - val_acc: 0.6165\n",
      "Epoch 18/50\n",
      "448/448 [==============================] - 489s 1s/step - loss: 0.7347 - acc: 0.7285 - val_loss: 1.0883 - val_acc: 0.6101\n",
      "Epoch 19/50\n",
      "448/448 [==============================] - 575s 1s/step - loss: 0.7172 - acc: 0.7338 - val_loss: 1.0868 - val_acc: 0.6166\n",
      "Epoch 20/50\n",
      "448/448 [==============================] - 540s 1s/step - loss: 0.6957 - acc: 0.7428 - val_loss: 1.0899 - val_acc: 0.6169\n",
      "Epoch 21/50\n",
      "448/448 [==============================] - 530s 1s/step - loss: 0.6795 - acc: 0.7475 - val_loss: 1.1254 - val_acc: 0.6108\n",
      "Epoch 22/50\n",
      "448/448 [==============================] - 504s 1s/step - loss: 0.6569 - acc: 0.7555 - val_loss: 1.0960 - val_acc: 0.6148\n",
      "Epoch 23/50\n",
      "448/448 [==============================] - 526s 1s/step - loss: 0.6427 - acc: 0.7632 - val_loss: 1.1294 - val_acc: 0.6149\n",
      "Epoch 24/50\n",
      "448/448 [==============================] - 520s 1s/step - loss: 0.6248 - acc: 0.7690 - val_loss: 1.1236 - val_acc: 0.6154\n",
      "Epoch 25/50\n",
      "448/448 [==============================] - 521s 1s/step - loss: 0.6044 - acc: 0.7770 - val_loss: 1.1362 - val_acc: 0.6241\n",
      "Epoch 26/50\n",
      "448/448 [==============================] - 523s 1s/step - loss: 0.5963 - acc: 0.7826 - val_loss: 1.1172 - val_acc: 0.6191\n",
      "Epoch 27/50\n",
      "448/448 [==============================] - 534s 1s/step - loss: 0.5800 - acc: 0.7863 - val_loss: 1.1364 - val_acc: 0.6234\n",
      "Epoch 28/50\n",
      "448/448 [==============================] - 552s 1s/step - loss: 0.5616 - acc: 0.7945 - val_loss: 1.1377 - val_acc: 0.6176\n",
      "Epoch 29/50\n",
      "448/448 [==============================] - 536s 1s/step - loss: 0.5584 - acc: 0.7909 - val_loss: 1.1253 - val_acc: 0.6229\n",
      "Epoch 30/50\n",
      "448/448 [==============================] - 502s 1s/step - loss: 0.5392 - acc: 0.8000 - val_loss: 1.1833 - val_acc: 0.6255\n",
      "Epoch 31/50\n",
      "448/448 [==============================] - 498s 1s/step - loss: 0.5386 - acc: 0.8009 - val_loss: 1.1962 - val_acc: 0.6177\n",
      "Epoch 32/50\n",
      "448/448 [==============================] - 527s 1s/step - loss: 0.5268 - acc: 0.8082 - val_loss: 1.1870 - val_acc: 0.6195\n",
      "Epoch 33/50\n",
      "448/448 [==============================] - 503s 1s/step - loss: 0.5057 - acc: 0.8160 - val_loss: 1.2028 - val_acc: 0.6218\n",
      "Epoch 34/50\n",
      "448/448 [==============================] - 536s 1s/step - loss: 0.4961 - acc: 0.8178 - val_loss: 1.1669 - val_acc: 0.6229\n",
      "Epoch 35/50\n",
      "448/448 [==============================] - 513s 1s/step - loss: 0.4904 - acc: 0.8207 - val_loss: 1.1923 - val_acc: 0.6170\n",
      "Epoch 36/50\n",
      "448/448 [==============================] - 901s 2s/step - loss: 0.4821 - acc: 0.8272 - val_loss: 1.1927 - val_acc: 0.6181\n",
      "Epoch 37/50\n",
      "448/448 [==============================] - 46239s 103s/step - loss: 0.4749 - acc: 0.8272 - val_loss: 1.1712 - val_acc: 0.6234\n",
      "Epoch 38/50\n",
      "448/448 [==============================] - 527s 1s/step - loss: 0.4681 - acc: 0.8301 - val_loss: 1.1938 - val_acc: 0.6239\n",
      "Epoch 39/50\n",
      "448/448 [==============================] - 802s 2s/step - loss: 0.4572 - acc: 0.8332 - val_loss: 1.1994 - val_acc: 0.6167\n",
      "Epoch 40/50\n",
      "448/448 [==============================] - 947s 2s/step - loss: 0.4574 - acc: 0.8352 - val_loss: 1.2230 - val_acc: 0.6127\n",
      "Epoch 41/50\n",
      "448/448 [==============================] - 3194s 7s/step - loss: 0.4374 - acc: 0.8418 - val_loss: 1.2452 - val_acc: 0.6211\n",
      "Epoch 42/50\n",
      "448/448 [==============================] - 508s 1s/step - loss: 0.4454 - acc: 0.8361 - val_loss: 1.2551 - val_acc: 0.6250\n",
      "Epoch 43/50\n",
      "448/448 [==============================] - 498s 1s/step - loss: 0.4219 - acc: 0.8476 - val_loss: 1.2572 - val_acc: 0.6261\n",
      "Epoch 44/50\n",
      "448/448 [==============================] - 521s 1s/step - loss: 0.4221 - acc: 0.8462 - val_loss: 1.2689 - val_acc: 0.6239\n",
      "Epoch 45/50\n",
      "448/448 [==============================] - 514s 1s/step - loss: 0.4078 - acc: 0.8519 - val_loss: 1.2530 - val_acc: 0.6219\n",
      "Epoch 46/50\n",
      "448/448 [==============================] - 551s 1s/step - loss: 0.4125 - acc: 0.8518 - val_loss: 1.2570 - val_acc: 0.6180\n",
      "Epoch 47/50\n",
      "448/448 [==============================] - 511s 1s/step - loss: 0.4105 - acc: 0.8527 - val_loss: 1.2791 - val_acc: 0.6191\n",
      "Epoch 48/50\n",
      "448/448 [==============================] - 529s 1s/step - loss: 0.4024 - acc: 0.8550 - val_loss: 1.2498 - val_acc: 0.6244\n",
      "Epoch 49/50\n",
      "448/448 [==============================] - 512s 1s/step - loss: 0.3971 - acc: 0.8569 - val_loss: 1.3141 - val_acc: 0.6179\n",
      "Epoch 50/50\n",
      " 59/448 [==>...........................] - ETA: 8:11 - loss: 0.4162 - acc: 0.8579"
     ]
    }
   ],
   "source": [
    "emotion_model = model.fit_generator(train_data,epochs=50,steps_per_epoch=28709//64,validation_data=test_data,validation_steps=7178//64)"
   ]
  },
  {
   "cell_type": "code",
   "execution_count": 66,
   "metadata": {},
   "outputs": [],
   "source": [
    "model.save('main_model.h5')"
   ]
  },
  {
   "cell_type": "code",
   "execution_count": 1,
   "metadata": {},
   "outputs": [
    {
     "name": "stderr",
     "output_type": "stream",
     "text": [
      "Using TensorFlow backend.\n"
     ]
    }
   ],
   "source": [
    "from keras.models import load_model\n",
    "model1 = load_model('main_model.h5')"
   ]
  },
  {
   "cell_type": "code",
   "execution_count": 132,
   "metadata": {},
   "outputs": [],
   "source": [
    "import numpy as np\n",
    "from keras.preprocessing import image\n",
    "file_path='n.jpg'\n",
    "\n",
    "img = image.load_img(file_path,target_size=(48,48))\n",
    "arr_img = image.img_to_array(img)\n",
    "arr_gray = cv2.cvtColor(arr_img,cv2.COLOR_BGR2GRAY)\n",
    "arr_img1 = arr_gray.reshape(48,48,1)\n",
    "object_img = np.expand_dims(arr_img1,axis=0)"
   ]
  },
  {
   "cell_type": "code",
   "execution_count": 133,
   "metadata": {},
   "outputs": [],
   "source": [
    "predict = model1.predict_classes(object_img)"
   ]
  },
  {
   "cell_type": "code",
   "execution_count": 134,
   "metadata": {},
   "outputs": [
    {
     "data": {
      "text/plain": [
       "array([4], dtype=int64)"
      ]
     },
     "execution_count": 134,
     "metadata": {},
     "output_type": "execute_result"
    }
   ],
   "source": [
    "predict"
   ]
  },
  {
   "cell_type": "code",
   "execution_count": 135,
   "metadata": {},
   "outputs": [
    {
     "data": {
      "text/plain": [
       "<matplotlib.image.AxesImage at 0x1c393dd3588>"
      ]
     },
     "execution_count": 135,
     "metadata": {},
     "output_type": "execute_result"
    },
    {
     "data": {
      "image/png": "[encoded data removed]",
      "text/plain": [
       "<Figure size 432x288 with 1 Axes>"
      ]
     },
     "metadata": {
      "needs_background": "light"
     },
     "output_type": "display_data"
    }
   ],
   "source": [
    "plt.imshow(cv2.imread('n.jpg'))"
   ]
  },
  {
   "cell_type": "code",
   "execution_count": 116,
   "metadata": {},
   "outputs": [
    {
     "data": {
      "text/plain": [
       "{'angry': 0,\n",
       " 'disgust': 1,\n",
       " 'fear': 2,\n",
       " 'happy': 3,\n",
       " 'neutral': 4,\n",
       " 'sad': 5,\n",
       " 'surprise': 6}"
      ]
     },
     "execution_count": 116,
     "metadata": {},
     "output_type": "execute_result"
    }
   ],
   "source": [
    "train_data.class_indices"
   ]
  },
  {
   "cell_type": "code",
   "execution_count": null,
   "metadata": {},
   "outputs": [],
   "source": []
  }
 ],
 "metadata": {
  "kernelspec": {
   "display_name": "Python 3",
   "language": "python",
   "name": "python3"
  },
  "language_info": {
   "codemirror_mode": {
    "name": "ipython",
    "version": 3
   },
   "file_extension": ".py",
   "mimetype": "text/x-python",
   "name": "python",
   "nbconvert_exporter": "python",
   "pygments_lexer": "ipython3",
   "version": "3.6.6"
  }
 },
 "nbformat": 4,
 "nbformat_minor": 2
}
